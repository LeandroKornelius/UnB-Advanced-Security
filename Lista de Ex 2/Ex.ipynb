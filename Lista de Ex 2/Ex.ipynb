{
 "cells": [
  {
   "cell_type": "markdown",
   "source": [
    "# Lista de Exercício 2 - S-AES e AES/Modos de Operação\n",
    "\n",
    "## Contextualização:\n",
    "\n",
    "O AES é um algortitmo de criptografia em que possui chave única, ou seja é uma criptografia simétrica. Ademais, o texto é processado em blocos de tamanhos definidos por vez sendo, por isso, uma cifra de bloco. Este algoritmo possui diversas aplicações atualmente denotando a sua importância no ambiente acadêmico.\n",
    "\n",
    "Entretanto, devido a complexidade de sua implementação foi criado o algoritmo S-AES o qual é uma versão simplificada do algoritmo AES para fins educacionais. Neste relatório abordaremos a implementação do S-AES, realizar a documentação de suas características e outras observações.\n",
    "\n",
    "## Parte 1 - Implementação do S-AES:\n",
    "\n",
    "Iniciaremos com uma visão geral do algoritmo S-AES. É uma cifra de bloco cujo tamanho é de 16 bits. Sua chave também possui este tamanho de 16 bits.\n",
    "\n",
    "Com base na chave providenciada, é gerada outras duas chaves as quais serão usadas nas rodadas do algoritmo. Iremos detalhar cada rodada e suas características particulares em breve.\n",
    "\n",
    "Iniciaremos a implentação definindo o texto a ser cifrado assim como um exemplo de chave de 16 bits e o S-BOX o qual também terá uma explicação em breve."
   ],
   "metadata": {
    "collapsed": false
   }
  },
  {
   "cell_type": "markdown",
   "source": [],
   "metadata": {
    "collapsed": false
   }
  },
  {
   "cell_type": "code",
   "execution_count": 28,
   "outputs": [],
   "source": [
    "import base64\n",
    "\n",
    "plain_text = \"oi\"\n",
    "key = 0x3A94\n",
    "\n",
    "SBOX = {\n",
    "    0x0: 0x9, 0x1: 0x4, 0x2: 0xA, 0x3: 0xB,\n",
    "    0x4: 0xD, 0x5: 0x1, 0x6: 0x8, 0x7: 0x5,\n",
    "    0x8: 0x6, 0x9: 0x2, 0xA: 0x0, 0xB: 0x3,\n",
    "    0xC: 0xC, 0xD: 0xE, 0xE: 0xF, 0xF: 0x7,\n",
    "}"
   ],
   "metadata": {
    "collapsed": false,
    "ExecuteTime": {
     "end_time": "2025-05-04T19:23:25.107065800Z",
     "start_time": "2025-05-04T19:23:25.064149800Z"
    }
   }
  },
  {
   "cell_type": "markdown",
   "source": [
    "### AddRoundKey Operação:\n",
    "\n",
    "A primeira etapa do algoritmo é esta. É aplicado um XOR na chave de 16 bits à um estado do mesmo cumprimento. A utilização do XOR é utilizada, pois permite que seja gerado um novo estado diferente do anterior e no processo de descriptação seja possível retornar ao estado inicial.\n",
    "\n",
    "Antes das rodadas do algoritmo, é aplicada esta função à mensagem a ser cifrada. Tal mensagem pode ser uma string. Em função disso, é necessário converter essa string em um formato que o restante do algoritmo possa processar, uma matriz 2x2 de nibbles.\n",
    "\n",
    "Para isso, foram também criadas duas funções auxiliares."
   ],
   "metadata": {
    "collapsed": false
   }
  },
  {
   "cell_type": "code",
   "execution_count": 29,
   "outputs": [],
   "source": [
    "def matrix_to_int(matrix):\n",
    "    return (\n",
    "        (matrix[0][0] << 12) | (matrix[0][1] << 8) |\n",
    "        (matrix[1][0] << 4) | matrix[1][1]\n",
    "    )\n",
    "\n",
    "def int_to_matrix(int_value):\n",
    "    return [\n",
    "        [(int_value >> 12) & 0xF, (int_value >> 8) & 0xF],\n",
    "        [(int_value >> 4) & 0xF, int_value & 0xF]\n",
    "    ]\n",
    "\n",
    "def plain_text_to_nibble_matrix(plain_text):\n",
    "    bits = int.from_bytes(plain_text.encode(), 'big')\n",
    "    return  int_to_matrix(bits)\n",
    "\n",
    "def add_round_key(state, round_key):\n",
    "    return [\n",
    "        [state[0][0] ^ round_key[0][0], state[0][1] ^ round_key[0][1]],\n",
    "        [state[1][0] ^ round_key[1][0], state[1][1] ^ round_key[1][1]]\n",
    "    ]"
   ],
   "metadata": {
    "collapsed": false,
    "ExecuteTime": {
     "end_time": "2025-05-04T19:23:25.108067100Z",
     "start_time": "2025-05-04T19:23:25.071639400Z"
    }
   }
  },
  {
   "cell_type": "markdown",
   "source": [
    "A função \"int_to_matrix\" tem como objetivo transformar um número de 16 bits na matriz 2x2 de nibbles que será processada no algoritmo. O deslocamento de bits por 12, 8, 4 e sem deslocamento permite que o inteiro seja dividido em quatro nibbles para montar a matriz. Já a função \"matrix_to_int\" tem o objetivo inverso e será usada no final do código para fácil visualização do texto cifrado.\n",
    "\n",
    "Já a função \"plain_text_to_nibble_matrix\" faz uso desta outra função para, a partir de uma string comum, consiga gerar a matriz de nibbles desejada.\n",
    "\n",
    "### SubstituteNibbles:\n",
    "\n",
    "A operação SubstituteNibbles busca aplicar a S-box fixa definida anteriormente ao estado de 16 bits. Para isso, a seguinte função foi implementada:"
   ],
   "metadata": {
    "collapsed": false
   }
  },
  {
   "cell_type": "code",
   "execution_count": 30,
   "outputs": [],
   "source": [
    "def sub_nibbles(state):\n",
    "    # state must be in nibble matrix form\n",
    "    return [[SBOX[nibble] for nibble in row] for row in state]"
   ],
   "metadata": {
    "collapsed": false,
    "ExecuteTime": {
     "end_time": "2025-05-04T19:23:25.109750200Z",
     "start_time": "2025-05-04T19:23:25.078522700Z"
    }
   }
  },
  {
   "cell_type": "markdown",
   "source": [
    "### ShiftRows:\n",
    "\n",
    "A função shift rows envolve trocar os dois últimos nibbles da matriz. Nesse sentido, o seguinte código foi feito:"
   ],
   "metadata": {
    "collapsed": false
   }
  },
  {
   "cell_type": "code",
   "execution_count": 31,
   "outputs": [],
   "source": [
    "def shift_rows(state):\n",
    "    return [state[0], [state[1][1], state[1][0]]]"
   ],
   "metadata": {
    "collapsed": false,
    "ExecuteTime": {
     "end_time": "2025-05-04T19:23:25.158018100Z",
     "start_time": "2025-05-04T19:23:25.083928Z"
    }
   }
  },
  {
   "cell_type": "markdown",
   "source": [
    "### MixColumns:\n",
    "\n",
    "Esta etapa é considerada complexa e difícil de compreender. O Campo Finito de Galois serve para reduzir a complexidade através da conversão de bytes para uam forma polinomial. Por termos matrizes de 4 bits temos GF(2^4).\n",
    "\n",
    "Dessa forma, será feita uma combinação dos elementos da matriz de estado usando multiplicações e somas neste campo infinito. Assim, é feita uma mistura linear das colunas da matriz."
   ],
   "metadata": {
    "collapsed": false
   }
  },
  {
   "cell_type": "code",
   "execution_count": 32,
   "outputs": [],
   "source": [
    "def galois_field_multiplication(a, b):\n",
    "    p = 0\n",
    "    for _ in range(4):\n",
    "        if b & 1:\n",
    "            p ^= a\n",
    "        carry = a & 0b1000\n",
    "        a <<= 1\n",
    "        if carry:\n",
    "            a ^= 0b10011\n",
    "        b >>= 1\n",
    "    return p & 0xF\n",
    "\n",
    "def mix_columns(state):\n",
    "    s00 = galois_field_multiplication(1, state[0][0]) ^ galois_field_multiplication(4, state[1][0])\n",
    "    s10 = galois_field_multiplication(4, state[0][0]) ^ galois_field_multiplication(1, state[1][0])\n",
    "    s01 = galois_field_multiplication(1, state[0][1]) ^ galois_field_multiplication(4, state[1][1])\n",
    "    s11 = galois_field_multiplication(4, state[0][1]) ^ galois_field_multiplication(1, state[1][1])\n",
    "    return [[s00, s01], [s10, s11]]"
   ],
   "metadata": {
    "collapsed": false,
    "ExecuteTime": {
     "end_time": "2025-05-04T19:23:25.158018100Z",
     "start_time": "2025-05-04T19:23:25.089903800Z"
    }
   }
  },
  {
   "cell_type": "markdown",
   "source": [
    "### KeyExpansion:\n",
    "\n",
    "Como teremos três chaves ao todo, será necessário expandir a chave inicial de 16 bits gerando 3 chaves de 16 bits. Para isso, é utilizado uma combinação de S-box e feita rotações com constantes definidas abaixo."
   ],
   "metadata": {
    "collapsed": false
   }
  },
  {
   "cell_type": "code",
   "execution_count": 33,
   "outputs": [],
   "source": [
    "def key_expansion(key):\n",
    "    w = [(key >> 8) & 0xFF, key & 0xFF]\n",
    "    RCON1, RCON2 = 0b10000000, 0b00110000\n",
    "\n",
    "    def sub_rot(word):\n",
    "        return ((SBOX[(word >> 4) & 0xF] << 4) | SBOX[word & 0xF])\n",
    "\n",
    "    w.append(w[0] ^ RCON1 ^ sub_rot(w[1]))\n",
    "    w.append(w[1] ^ w[2])\n",
    "    w.append(w[2] ^ RCON2 ^ sub_rot(w[3]))\n",
    "    w.append(w[3] ^ w[4])\n",
    "\n",
    "    k0 = int_to_matrix((w[0] << 8) | w[1])\n",
    "    k1 = int_to_matrix((w[2] << 8) | w[3])\n",
    "    k2 = int_to_matrix((w[4] << 8) | w[5])\n",
    "\n",
    "    return [k0, k1, k2]"
   ],
   "metadata": {
    "collapsed": false,
    "ExecuteTime": {
     "end_time": "2025-05-04T19:23:25.159018600Z",
     "start_time": "2025-05-04T19:23:25.096657800Z"
    }
   }
  },
  {
   "cell_type": "markdown",
   "source": [
    "### Encriptação usando o S-AES:\n",
    "\n",
    "Com as funções definidas anteriormente, é feita a função principal do S-AES. Esta função segue as seguintes etapas e apresenta resultados intermediários das funções auxiliares.\n",
    "\n",
    "Etapas antes das rodadas:\n",
    "- Conversão da mensagem de string para bits\n",
    "- Aplicação de KeyExpansion para gerar 3 subchaves\n",
    "- Adição da chave original com AddRoundKey\n",
    "\n",
    "Primeira rodada:\n",
    "- SubNibbles\n",
    "- ShiftRows\n",
    "- MixColumns\n",
    "- AddRoundKey com a primeira chave gerada\n",
    "\n",
    "Segunda rodada:\n",
    "- SubNibbles\n",
    "- ShiftRows\n",
    "- AddRoundKey com segunda chave gerada"
   ],
   "metadata": {
    "collapsed": false
   }
  },
  {
   "cell_type": "code",
   "execution_count": 34,
   "outputs": [],
   "source": [
    "def s_aes_encrypt_block(block_int, key):\n",
    "    keys = key_expansion(key)\n",
    "    state = int_to_matrix(block_int)\n",
    "    print(\"Texto original:\", state)\n",
    "\n",
    "    state = add_round_key(state, keys[0])\n",
    "    print(\"Após AddRoundKey (K0):\", state)\n",
    "\n",
    "    state = sub_nibbles(state)\n",
    "    print(\"Após SubNibbles:\", state)\n",
    "\n",
    "    state = shift_rows(state)\n",
    "    print(\"Após ShiftRows:\", state)\n",
    "\n",
    "    state = mix_columns(state)\n",
    "    print(\"Após MixColumns:\", state)\n",
    "\n",
    "    state = add_round_key(state, keys[1])\n",
    "    print(\"Após AddRoundKey (K1):\", state)\n",
    "\n",
    "    state = sub_nibbles(state)\n",
    "    print(\"Após SubNibbles:\", state)\n",
    "\n",
    "    state = shift_rows(state)\n",
    "    print(\"Após ShiftRows:\", state)\n",
    "\n",
    "    state = add_round_key(state, keys[2])\n",
    "    print(\"Após AddRoundKey (K2):\", state)\n",
    "\n",
    "    return matrix_to_int(state)"
   ],
   "metadata": {
    "collapsed": false,
    "ExecuteTime": {
     "end_time": "2025-05-04T19:23:25.159018600Z",
     "start_time": "2025-05-04T19:23:25.102684800Z"
    }
   }
  },
  {
   "cell_type": "markdown",
   "source": [
    "### Testando com Etapas Intermediárias:\n",
    "\n",
    "Com isso, a seguinte função foi gerada para exibição em hexadecimal e em base64 para fácil visualização dos resultados. Por fim, foi chamada a função principal com a função de visualização definida para vermos o resultado final e etapas intermediárias."
   ],
   "metadata": {
    "collapsed": false
   }
  },
  {
   "cell_type": "code",
   "execution_count": 35,
   "outputs": [
    {
     "name": "stdout",
     "output_type": "stream",
     "text": [
      "Texto original: [[6, 15], [6, 9]]\n",
      "Após AddRoundKey (K0): [[5, 5], [15, 13]]\n",
      "Após SubNibbles: [[1, 1], [7, 14]]\n",
      "Após ShiftRows: [[1, 1], [14, 7]]\n",
      "Após MixColumns: [[12, 14], [10, 3]]\n",
      "Após AddRoundKey (K1): [[5, 9], [10, 0]]\n",
      "Após SubNibbles: [[1, 2], [0, 9]]\n",
      "Após ShiftRows: [[1, 2], [9, 0]]\n",
      "Após AddRoundKey (K2): [[2, 14], [10, 15]]\n",
      "\n",
      "Texto cifrado (hex): 0x2eaf\n",
      "Texto cifrado (base64): Lq8=\n"
     ]
    }
   ],
   "source": [
    "def encrypt_string(plaintext, key):\n",
    "    binary = int.from_bytes(plaintext.encode(), 'big')\n",
    "    encrypted = s_aes_encrypt_block(binary, key)\n",
    "    print(\"\\nTexto cifrado (hex):\", hex(encrypted))\n",
    "    b64 = base64.b64encode(encrypted.to_bytes(2, 'big')).decode()\n",
    "    print(\"Texto cifrado (base64):\", b64)\n",
    "\n",
    "encrypt_string(plain_text, key)"
   ],
   "metadata": {
    "collapsed": false,
    "ExecuteTime": {
     "end_time": "2025-05-04T19:23:25.160018200Z",
     "start_time": "2025-05-04T19:23:25.108067100Z"
    }
   }
  },
  {
   "cell_type": "markdown",
   "source": [
    "### Conclusão e Comparações:\n",
    "\n",
    "Como mencionado anteriormente, o S-AES é uma simplificação do AES para fins educacionais.\n",
    "\n",
    "Sob essa ótica, a versão simplificada do algoritmo apresenta blocos e chaves menores de 16 bits, já o AES possui mais opções para aplicações distintas tendo blocos de 128 bits e chaves de 128, 192, ou 256 bits.\n",
    "\n",
    "A quantidade de rodadas também é distinta. Enquanto o S-AES possui apenas 2 rodadas o AES pode possuir 10, 12 ou 14 rodadas a depender to tamanho da chave utilizada no algoritmo.\n",
    "\n",
    "Apesar das mesmas operações, a S-AES simplifica algumas delas tornando o algoritmo menos seguro. Entretanto, isso traz simplicidade de entendimento o que facilita o aprendizado e, por isso, seu uso."
   ],
   "metadata": {
    "collapsed": false
   }
  },
  {
   "cell_type": "markdown",
   "source": [
    "## Parte 2 - Implementação do Modo de Operação ECB com o S-AES\n",
    "\n",
    "O ECB é um modo de operação para algoritmos de cifra em bloco. Ele funciona dividindo o texto em blocos de tamanho definido pelo algoritmo de encriptação a ser utilizado. Após a divisão, cada bloco é cifrado de forma independente, mesmo que às vezes feito de forma paralela usando a mesma chave e o mesmo algoritmo.\n",
    "\n",
    "Nesse sentido, o resultado deste modo de operação é a concatenação dos blocos cifrados.\n",
    "\n",
    "Entretanto, apresenta um problema de segurança, pois blocos idênticos de textos simples como é o caso do teste do código abaixo geram blocos idênticos de texto cifrado. Com essas igualdades, é possível expor padrões o que compromete a segurança da encriptação."
   ],
   "metadata": {
    "collapsed": false
   }
  },
  {
   "cell_type": "code",
   "execution_count": 39,
   "outputs": [
    {
     "name": "stdout",
     "output_type": "stream",
     "text": [
      "Texto original em binário: 010000010100001001000001010000100100000101000010010000010100001001000001010000100100000101000010\n",
      "\n",
      "Blocos de 16 bits:\n",
      "Bloco 1: 0100000101000010\n",
      "Bloco 2: 0100000101000010\n",
      "Bloco 3: 0100000101000010\n",
      "Bloco 4: 0100000101000010\n",
      "Bloco 5: 0100000101000010\n",
      "Bloco 6: 0100000101000010\n",
      "\n",
      "Bloco cifrado em hexadecimal:\n",
      "Texto original: [[4, 1], [4, 2]]\n",
      "Após AddRoundKey (K0): [[7, 11], [13, 6]]\n",
      "Após SubNibbles: [[5, 3], [14, 8]]\n",
      "Após ShiftRows: [[5, 3], [8, 14]]\n",
      "Após MixColumns: [[3, 14], [15, 2]]\n",
      "Após AddRoundKey (K1): [[10, 9], [15, 1]]\n",
      "Após SubNibbles: [[0, 2], [7, 4]]\n",
      "Após ShiftRows: [[0, 2], [4, 7]]\n",
      "Após AddRoundKey (K2): [[3, 14], [7, 8]]\n",
      "Bloco 1 cifrado: 3e78\n",
      "Texto original: [[4, 1], [4, 2]]\n",
      "Após AddRoundKey (K0): [[7, 11], [13, 6]]\n",
      "Após SubNibbles: [[5, 3], [14, 8]]\n",
      "Após ShiftRows: [[5, 3], [8, 14]]\n",
      "Após MixColumns: [[3, 14], [15, 2]]\n",
      "Após AddRoundKey (K1): [[10, 9], [15, 1]]\n",
      "Após SubNibbles: [[0, 2], [7, 4]]\n",
      "Após ShiftRows: [[0, 2], [4, 7]]\n",
      "Após AddRoundKey (K2): [[3, 14], [7, 8]]\n",
      "Bloco 2 cifrado: 3e78\n",
      "Texto original: [[4, 1], [4, 2]]\n",
      "Após AddRoundKey (K0): [[7, 11], [13, 6]]\n",
      "Após SubNibbles: [[5, 3], [14, 8]]\n",
      "Após ShiftRows: [[5, 3], [8, 14]]\n",
      "Após MixColumns: [[3, 14], [15, 2]]\n",
      "Após AddRoundKey (K1): [[10, 9], [15, 1]]\n",
      "Após SubNibbles: [[0, 2], [7, 4]]\n",
      "Após ShiftRows: [[0, 2], [4, 7]]\n",
      "Após AddRoundKey (K2): [[3, 14], [7, 8]]\n",
      "Bloco 3 cifrado: 3e78\n",
      "Texto original: [[4, 1], [4, 2]]\n",
      "Após AddRoundKey (K0): [[7, 11], [13, 6]]\n",
      "Após SubNibbles: [[5, 3], [14, 8]]\n",
      "Após ShiftRows: [[5, 3], [8, 14]]\n",
      "Após MixColumns: [[3, 14], [15, 2]]\n",
      "Após AddRoundKey (K1): [[10, 9], [15, 1]]\n",
      "Após SubNibbles: [[0, 2], [7, 4]]\n",
      "Após ShiftRows: [[0, 2], [4, 7]]\n",
      "Após AddRoundKey (K2): [[3, 14], [7, 8]]\n",
      "Bloco 4 cifrado: 3e78\n",
      "Texto original: [[4, 1], [4, 2]]\n",
      "Após AddRoundKey (K0): [[7, 11], [13, 6]]\n",
      "Após SubNibbles: [[5, 3], [14, 8]]\n",
      "Após ShiftRows: [[5, 3], [8, 14]]\n",
      "Após MixColumns: [[3, 14], [15, 2]]\n",
      "Após AddRoundKey (K1): [[10, 9], [15, 1]]\n",
      "Após SubNibbles: [[0, 2], [7, 4]]\n",
      "Após ShiftRows: [[0, 2], [4, 7]]\n",
      "Após AddRoundKey (K2): [[3, 14], [7, 8]]\n",
      "Bloco 5 cifrado: 3e78\n",
      "Texto original: [[4, 1], [4, 2]]\n",
      "Após AddRoundKey (K0): [[7, 11], [13, 6]]\n",
      "Após SubNibbles: [[5, 3], [14, 8]]\n",
      "Após ShiftRows: [[5, 3], [8, 14]]\n",
      "Após MixColumns: [[3, 14], [15, 2]]\n",
      "Após AddRoundKey (K1): [[10, 9], [15, 1]]\n",
      "Após SubNibbles: [[0, 2], [7, 4]]\n",
      "Após ShiftRows: [[0, 2], [4, 7]]\n",
      "Após AddRoundKey (K2): [[3, 14], [7, 8]]\n",
      "Bloco 6 cifrado: 3e78\n",
      "\n",
      "Texto cifrado em Base64: Png+eD54Png+eD54\n"
     ]
    },
    {
     "data": {
      "text/plain": "'Png+eD54Png+eD54'"
     },
     "execution_count": 39,
     "metadata": {},
     "output_type": "execute_result"
    }
   ],
   "source": [
    "def encrypt_saes_ecb(plain_text, key):\n",
    "\n",
    "    # Plaintext to binary split into 16-bit blocks\n",
    "    bits = \"\".join(format(ord(c), '08b') for c in plain_text)\n",
    "\n",
    "    # Padding with zeros\n",
    "    if len(bits) % 16 != 0:\n",
    "        bits += '0' * (16 - (len(bits) % 16))\n",
    "    blocks = [bits[i:i+16] for i in range(0, len(bits), 16)]\n",
    "\n",
    "    print(f\"Texto original em binário: {bits}\")\n",
    "    print(f\"\\nBlocos de 16 bits:\")\n",
    "    for i, block in enumerate(blocks, start=1):\n",
    "        print(f\"Bloco {i}: {block}\")\n",
    "\n",
    "    encrypted_blocks = []\n",
    "    print(f\"\\nBloco cifrado em hexadecimal:\")\n",
    "    for i, block in enumerate(blocks, start=1):\n",
    "        plain_value = int(block, 2)\n",
    "        encrypted_value = s_aes_encrypt_block(plain_value, key)\n",
    "        encrypted_blocks.append(encrypted_value)\n",
    "        print(f\"Bloco {i} cifrado: {encrypted_value:04x}\")\n",
    "\n",
    "    combined_bits = ''.join(format(b, '016b') for b in encrypted_blocks)\n",
    "    encrypted_bytes = int(combined_bits, 2).to_bytes(len(combined_bits)//8, 'big')\n",
    "    base64_encrypted_text = base64.b64encode(encrypted_bytes).decode('utf-8')\n",
    "\n",
    "    print(f\"\\nTexto cifrado em Base64: {base64_encrypted_text}\")\n",
    "    return base64_encrypted_text\n",
    "\n",
    "encrypt_saes_ecb(\"ABABABABABAB\", 0x3A94)"
   ],
   "metadata": {
    "collapsed": false,
    "ExecuteTime": {
     "end_time": "2025-05-04T19:41:15.183566400Z",
     "start_time": "2025-05-04T19:41:15.163357800Z"
    }
   }
  },
  {
   "cell_type": "markdown",
   "source": [
    "A função acima tem o seguinte funcionamento:\n",
    "- Conversão de texto para binário\n",
    "- Divisão em blocos de 16 bits e preenchimento caso não seja múltiplo\n",
    "- Cifragem usando o algoritmo S-AES definido bloco a bloco\n",
    "- Concatenação e codificação para base64\n",
    "\n",
    "Com o teste acima, também é possível visualizar como mensagens com um padrão apresentam blocos iguais, comprovando a fraqueza deste modo de operação."
   ],
   "metadata": {
    "collapsed": false
   }
  }
 ],
 "metadata": {
  "kernelspec": {
   "display_name": "Python 3",
   "language": "python",
   "name": "python3"
  },
  "language_info": {
   "codemirror_mode": {
    "name": "ipython",
    "version": 2
   },
   "file_extension": ".py",
   "mimetype": "text/x-python",
   "name": "python",
   "nbconvert_exporter": "python",
   "pygments_lexer": "ipython2",
   "version": "2.7.6"
  }
 },
 "nbformat": 4,
 "nbformat_minor": 0
}
