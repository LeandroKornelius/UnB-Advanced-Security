{
  "metadata": {
    "kernelspec": {
      "name": "python",
      "display_name": "Python (Pyodide)",
      "language": "python"
    },
    "language_info": {
      "codemirror_mode": {
        "name": "python",
        "version": 3
      },
      "file_extension": ".py",
      "mimetype": "text/x-python",
      "name": "python",
      "nbconvert_exporter": "python",
      "pygments_lexer": "ipython3",
      "version": "3.8"
    }
  },
  "nbformat_minor": 4,
  "nbformat": 4,
  "cells": [
    {
      "cell_type": "markdown",
      "source": "# Lista de Exercício 2 - S-AES e AES/Modos de Operação\n\n## Contextualização:\n\nO AES é um algortitmo de criptografia em que possui chave única, ou seja é uma criptografia simétrica. Ademais, o texto é processado em blocos de tamanhos definidos por vez sendo, por isso, uma cifra de bloco. Este algoritmo possui diversas aplicações atualmente denotando a sua importância no ambiente acadêmico.\n\nEntretanto, devido a complexidade de sua implementação foi criado o algoritmo S-AES o qual é uma versão simplificada do algoritmo AES para fins educacionais. Neste relatório abordaremos a implementação do S-AES, realizar a documentação de suas características e outras observações.\n\n## Parte 1 - Implementação do S-AES:\n\nIniciaremos com uma visão geral do algoritmo S-AES. É uma cifra de bloco cujo tamanho é de 16 bits. Sua chave também possui este tamanho de 16 bits.\n\nCom base na chave providenciada, é gerada outras duas chaves as quais serão usadas nas rodadas do algoritmo. Iremos detalhar cada rodada e suas características particulares em breve.\n\nIniciaremos a implentação definindo o texto a ser cifrado assim como um exemplo de chave de 16 bits e o S-BOX o qual também terá uma explicação em breve.",
      "metadata": {
        "collapsed": false,
        "jupyter": {
          "outputs_hidden": false
        }
      }
    },
    {
      "cell_type": "markdown",
      "source": "",
      "metadata": {
        "collapsed": false,
        "jupyter": {
          "outputs_hidden": false
        }
      }
    },
    {
      "cell_type": "code",
      "source": "import base64\n\nplain_text = \"oi\"\nkey = 0x3A94\n\nSBOX = {\n    0x0: 0x9, 0x1: 0x4, 0x2: 0xA, 0x3: 0xB,\n    0x4: 0xD, 0x5: 0x1, 0x6: 0x8, 0x7: 0x5,\n    0x8: 0x6, 0x9: 0x2, 0xA: 0x0, 0xB: 0x3,\n    0xC: 0xC, 0xD: 0xE, 0xE: 0xF, 0xF: 0x7,\n}",
      "metadata": {
        "collapsed": false,
        "ExecuteTime": {
          "end_time": "2025-06-15T23:52:08.459522400Z",
          "start_time": "2025-06-15T23:52:08.399172600Z"
        },
        "jupyter": {
          "outputs_hidden": false
        }
      },
      "outputs": [],
      "execution_count": 56
    },
    {
      "cell_type": "markdown",
      "source": "### AddRoundKey Operação:\n\nA primeira etapa do algoritmo é esta. É aplicado um XOR na chave de 16 bits à um estado do mesmo cumprimento. A utilização do XOR é utilizada, pois permite que seja gerado um novo estado diferente do anterior e no processo de descriptação seja possível retornar ao estado inicial.\n\nAntes das rodadas do algoritmo, é aplicada esta função à mensagem a ser cifrada. Tal mensagem pode ser uma string. Em função disso, é necessário converter essa string em um formato que o restante do algoritmo possa processar, uma matriz 2x2 de nibbles.\n\nPara isso, foram também criadas duas funções auxiliares.",
      "metadata": {
        "collapsed": false,
        "jupyter": {
          "outputs_hidden": false
        }
      }
    },
    {
      "cell_type": "code",
      "source": "def matrix_to_int(matrix):\n    return (\n        (matrix[0][0] << 12) | (matrix[0][1] << 8) |\n        (matrix[1][0] << 4) | matrix[1][1]\n    )\n\ndef int_to_matrix(int_value):\n    return [\n        [(int_value >> 12) & 0xF, (int_value >> 8) & 0xF],\n        [(int_value >> 4) & 0xF, int_value & 0xF]\n    ]\n\ndef plain_text_to_nibble_matrix(plain_text):\n    bits = int.from_bytes(plain_text.encode(), 'big')\n    return  int_to_matrix(bits)\n\ndef add_round_key(state, round_key):\n    return [\n        [state[0][0] ^ round_key[0][0], state[0][1] ^ round_key[0][1]],\n        [state[1][0] ^ round_key[1][0], state[1][1] ^ round_key[1][1]]\n    ]",
      "metadata": {
        "collapsed": false,
        "ExecuteTime": {
          "end_time": "2025-06-15T23:52:08.460527700Z",
          "start_time": "2025-06-15T23:52:08.403141Z"
        },
        "jupyter": {
          "outputs_hidden": false
        }
      },
      "outputs": [],
      "execution_count": 57
    },
    {
      "cell_type": "markdown",
      "source": "A função \"int_to_matrix\" tem como objetivo transformar um número de 16 bits na matriz 2x2 de nibbles que será processada no algoritmo. O deslocamento de bits por 12, 8, 4 e sem deslocamento permite que o inteiro seja dividido em quatro nibbles para montar a matriz. Já a função \"matrix_to_int\" tem o objetivo inverso e será usada no final do código para fácil visualização do texto cifrado.\n\nJá a função \"plain_text_to_nibble_matrix\" faz uso desta outra função para, a partir de uma string comum, consiga gerar a matriz de nibbles desejada.\n\n### SubstituteNibbles:\n\nA operação SubstituteNibbles busca aplicar a S-box fixa definida anteriormente ao estado de 16 bits. Para isso, a seguinte função foi implementada:",
      "metadata": {
        "collapsed": false,
        "jupyter": {
          "outputs_hidden": false
        }
      }
    },
    {
      "cell_type": "code",
      "source": "def sub_nibbles(state):\n    # state must be in nibble matrix form\n    return [[SBOX[nibble] for nibble in row] for row in state]",
      "metadata": {
        "collapsed": false,
        "ExecuteTime": {
          "end_time": "2025-06-15T23:52:08.460527700Z",
          "start_time": "2025-06-15T23:52:08.410230100Z"
        },
        "jupyter": {
          "outputs_hidden": false
        }
      },
      "outputs": [],
      "execution_count": 58
    },
    {
      "cell_type": "markdown",
      "source": "### ShiftRows:\n\nA função shift rows envolve trocar os dois últimos nibbles da matriz. Nesse sentido, o seguinte código foi feito:",
      "metadata": {
        "collapsed": false,
        "jupyter": {
          "outputs_hidden": false
        }
      }
    },
    {
      "cell_type": "code",
      "source": "def shift_rows(state):\n    return [state[0], [state[1][1], state[1][0]]]",
      "metadata": {
        "collapsed": false,
        "ExecuteTime": {
          "end_time": "2025-06-15T23:52:08.507774300Z",
          "start_time": "2025-06-15T23:52:08.415938100Z"
        },
        "jupyter": {
          "outputs_hidden": false
        }
      },
      "outputs": [],
      "execution_count": 59
    },
    {
      "cell_type": "markdown",
      "source": "### MixColumns:\n\nEsta etapa é considerada complexa e difícil de compreender. O Campo Finito de Galois serve para reduzir a complexidade através da conversão de bytes para uam forma polinomial. Por termos matrizes de 4 bits temos GF(2^4).\n\nDessa forma, será feita uma combinação dos elementos da matriz de estado usando multiplicações e somas neste campo infinito. Assim, é feita uma mistura linear das colunas da matriz.",
      "metadata": {
        "collapsed": false,
        "jupyter": {
          "outputs_hidden": false
        }
      }
    },
    {
      "cell_type": "code",
      "source": "def galois_field_multiplication(a, b):\n    p = 0\n    for _ in range(4):\n        if b & 1:\n            p ^= a\n        carry = a & 0b1000\n        a <<= 1\n        if carry:\n            a ^= 0b10011\n        b >>= 1\n    return p & 0xF\n\ndef mix_columns(state):\n    s00 = galois_field_multiplication(1, state[0][0]) ^ galois_field_multiplication(4, state[1][0])\n    s10 = galois_field_multiplication(4, state[0][0]) ^ galois_field_multiplication(1, state[1][0])\n    s01 = galois_field_multiplication(1, state[0][1]) ^ galois_field_multiplication(4, state[1][1])\n    s11 = galois_field_multiplication(4, state[0][1]) ^ galois_field_multiplication(1, state[1][1])\n    return [[s00, s01], [s10, s11]]",
      "metadata": {
        "collapsed": false,
        "ExecuteTime": {
          "end_time": "2025-06-15T23:52:08.508759900Z",
          "start_time": "2025-06-15T23:52:08.422038300Z"
        },
        "jupyter": {
          "outputs_hidden": false
        }
      },
      "outputs": [],
      "execution_count": 60
    },
    {
      "cell_type": "markdown",
      "source": "### KeyExpansion:\n\nComo teremos três chaves ao todo, será necessário expandir a chave inicial de 16 bits gerando 3 chaves de 16 bits. Para isso, é utilizado uma combinação de S-box e feita rotações com constantes definidas abaixo.",
      "metadata": {
        "collapsed": false,
        "jupyter": {
          "outputs_hidden": false
        }
      }
    },
    {
      "cell_type": "code",
      "source": "def key_expansion(key):\n    w = [(key >> 8) & 0xFF, key & 0xFF]\n    RCON1, RCON2 = 0b10000000, 0b00110000\n\n    def sub_rot(word):\n        return ((SBOX[(word >> 4) & 0xF] << 4) | SBOX[word & 0xF])\n\n    w.append(w[0] ^ RCON1 ^ sub_rot(w[1]))\n    w.append(w[1] ^ w[2])\n    w.append(w[2] ^ RCON2 ^ sub_rot(w[3]))\n    w.append(w[3] ^ w[4])\n\n    k0 = int_to_matrix((w[0] << 8) | w[1])\n    k1 = int_to_matrix((w[2] << 8) | w[3])\n    k2 = int_to_matrix((w[4] << 8) | w[5])\n\n    return [k0, k1, k2]",
      "metadata": {
        "collapsed": false,
        "ExecuteTime": {
          "end_time": "2025-06-15T23:52:08.508759900Z",
          "start_time": "2025-06-15T23:52:08.429346800Z"
        },
        "jupyter": {
          "outputs_hidden": false
        }
      },
      "outputs": [],
      "execution_count": 61
    },
    {
      "cell_type": "markdown",
      "source": "### Encriptação usando o S-AES:\n\nCom as funções definidas anteriormente, é feita a função principal do S-AES. Esta função segue as seguintes etapas e apresenta resultados intermediários das funções auxiliares.\n\nEtapas antes das rodadas:\n- Conversão da mensagem de string para bits\n- Aplicação de KeyExpansion para gerar 3 subchaves\n- Adição da chave original com AddRoundKey\n\nPrimeira rodada:\n- SubNibbles\n- ShiftRows\n- MixColumns\n- AddRoundKey com a primeira chave gerada\n\nSegunda rodada:\n- SubNibbles\n- ShiftRows\n- AddRoundKey com segunda chave gerada",
      "metadata": {
        "collapsed": false,
        "jupyter": {
          "outputs_hidden": false
        }
      }
    },
    {
      "cell_type": "code",
      "source": "def s_aes_encrypt_block(block_int, key):\n    keys = key_expansion(key)\n    state = int_to_matrix(block_int)\n    print(\"Texto original:\", state)\n\n    state = add_round_key(state, keys[0])\n    print(\"Após AddRoundKey (K0):\", state)\n\n    state = sub_nibbles(state)\n    print(\"Após SubNibbles:\", state)\n\n    state = shift_rows(state)\n    print(\"Após ShiftRows:\", state)\n\n    state = mix_columns(state)\n    print(\"Após MixColumns:\", state)\n\n    state = add_round_key(state, keys[1])\n    print(\"Após AddRoundKey (K1):\", state)\n\n    state = sub_nibbles(state)\n    print(\"Após SubNibbles:\", state)\n\n    state = shift_rows(state)\n    print(\"Após ShiftRows:\", state)\n\n    state = add_round_key(state, keys[2])\n    print(\"Após AddRoundKey (K2):\", state)\n\n    return matrix_to_int(state)",
      "metadata": {
        "collapsed": false,
        "ExecuteTime": {
          "end_time": "2025-06-15T23:52:08.509762800Z",
          "start_time": "2025-06-15T23:52:08.434349100Z"
        },
        "jupyter": {
          "outputs_hidden": false
        }
      },
      "outputs": [],
      "execution_count": 62
    },
    {
      "cell_type": "markdown",
      "source": "### Testando com Etapas Intermediárias:\n\nCom isso, a seguinte função foi gerada para exibição em hexadecimal e em base64 para fácil visualização dos resultados. Por fim, foi chamada a função principal com a função de visualização definida para vermos o resultado final e etapas intermediárias.",
      "metadata": {
        "collapsed": false,
        "jupyter": {
          "outputs_hidden": false
        }
      }
    },
    {
      "cell_type": "code",
      "source": "def encrypt_string(plaintext, key):\n    binary = int.from_bytes(plaintext.encode(), 'big')\n    encrypted = s_aes_encrypt_block(binary, key)\n    print(\"\\nTexto cifrado (hex):\", hex(encrypted))\n    b64 = base64.b64encode(encrypted.to_bytes(2, 'big')).decode()\n    print(\"Texto cifrado (base64):\", b64)\n\nencrypt_string(plain_text, key)",
      "metadata": {
        "collapsed": false,
        "ExecuteTime": {
          "end_time": "2025-06-15T23:52:08.509762800Z",
          "start_time": "2025-06-15T23:52:08.439257900Z"
        },
        "jupyter": {
          "outputs_hidden": false
        }
      },
      "outputs": [
        {
          "name": "stdout",
          "output_type": "stream",
          "text": "Texto original: [[6, 15], [6, 9]]\n,Após AddRoundKey (K0): [[5, 5], [15, 13]]\n,Após SubNibbles: [[1, 1], [7, 14]]\n,Após ShiftRows: [[1, 1], [14, 7]]\n,Após MixColumns: [[12, 14], [10, 3]]\n,Após AddRoundKey (K1): [[5, 9], [10, 0]]\n,Após SubNibbles: [[1, 2], [0, 9]]\n,Após ShiftRows: [[1, 2], [9, 0]]\n,Após AddRoundKey (K2): [[2, 14], [10, 15]]\n,\n,Texto cifrado (hex): 0x2eaf\n,Texto cifrado (base64): Lq8=\n"
        }
      ],
      "execution_count": 63
    },
    {
      "cell_type": "markdown",
      "source": "### Conclusão e Comparações:\n\nComo mencionado anteriormente, o S-AES é uma simplificação do AES para fins educacionais.\n\nSob essa ótica, a versão simplificada do algoritmo apresenta blocos e chaves menores de 16 bits, já o AES possui mais opções para aplicações distintas tendo blocos de 128 bits e chaves de 128, 192, ou 256 bits.\n\nA quantidade de rodadas também é distinta. Enquanto o S-AES possui apenas 2 rodadas o AES pode possuir 10, 12 ou 14 rodadas a depender to tamanho da chave utilizada no algoritmo.\n\nApesar das mesmas operações, a S-AES simplifica algumas delas tornando o algoritmo menos seguro. Entretanto, isso traz simplicidade de entendimento o que facilita o aprendizado e, por isso, seu uso.",
      "metadata": {
        "collapsed": false,
        "jupyter": {
          "outputs_hidden": false
        }
      }
    },
    {
      "cell_type": "markdown",
      "source": "## Parte 2 - Implementação do Modo de Operação ECB com o S-AES\n\nO ECB é um modo de operação para algoritmos de cifra em bloco. Ele funciona dividindo o texto em blocos de tamanho definido pelo algoritmo de encriptação a ser utilizado. Após a divisão, cada bloco é cifrado de forma independente, mesmo que às vezes feito de forma paralela usando a mesma chave e o mesmo algoritmo.\n\nNesse sentido, o resultado deste modo de operação é a concatenação dos blocos cifrados.\n\nEntretanto, apresenta um problema de segurança, pois blocos idênticos de textos simples como é o caso do teste do código abaixo geram blocos idênticos de texto cifrado. Com essas igualdades, é possível expor padrões o que compromete a segurança da encriptação.",
      "metadata": {
        "collapsed": false,
        "jupyter": {
          "outputs_hidden": false
        }
      }
    },
    {
      "cell_type": "code",
      "source": "def encrypt_saes_ecb(plain_text, key):\n\n    # Plaintext to binary split into 16-bit blocks\n    bits = \"\".join(format(ord(c), '08b') for c in plain_text)\n\n    # Padding with zeros\n    if len(bits) % 16 != 0:\n        bits += '0' * (16 - (len(bits) % 16))\n    blocks = [bits[i:i+16] for i in range(0, len(bits), 16)]\n\n    print(f\"Texto original em binário: {bits}\")\n    print(f\"\\nBlocos de 16 bits:\")\n    for i, block in enumerate(blocks, start=1):\n        print(f\"Bloco {i}: {block}\")\n\n    encrypted_blocks = []\n    print(f\"\\nBloco cifrado em hexadecimal:\")\n    for i, block in enumerate(blocks, start=1):\n        plain_value = int(block, 2)\n        encrypted_value = s_aes_encrypt_block(plain_value, key)\n        encrypted_blocks.append(encrypted_value)\n        print(f\"Bloco {i} cifrado: {encrypted_value:04x}\")\n\n    combined_bits = ''.join(format(b, '016b') for b in encrypted_blocks)\n    encrypted_bytes = int(combined_bits, 2).to_bytes(len(combined_bits)//8, 'big')\n    base64_encrypted_text = base64.b64encode(encrypted_bytes).decode('utf-8')\n\n    print(f\"\\nTexto cifrado em Base64: {base64_encrypted_text}\")\n    return base64_encrypted_text\n\nencrypt_saes_ecb(\"ABABABABABAB\", 0x3A94)",
      "metadata": {
        "collapsed": false,
        "ExecuteTime": {
          "end_time": "2025-06-15T23:52:08.511269Z",
          "start_time": "2025-06-15T23:52:08.447327900Z"
        },
        "jupyter": {
          "outputs_hidden": false
        }
      },
      "outputs": [
        {
          "name": "stdout",
          "output_type": "stream",
          "text": "Texto original em binário: 010000010100001001000001010000100100000101000010010000010100001001000001010000100100000101000010\n,\n,Blocos de 16 bits:\n,Bloco 1: 0100000101000010\n,Bloco 2: 0100000101000010\n,Bloco 3: 0100000101000010\n,Bloco 4: 0100000101000010\n,Bloco 5: 0100000101000010\n,Bloco 6: 0100000101000010\n,\n,Bloco cifrado em hexadecimal:\n,Texto original: [[4, 1], [4, 2]]\n,Após AddRoundKey (K0): [[7, 11], [13, 6]]\n,Após SubNibbles: [[5, 3], [14, 8]]\n,Após ShiftRows: [[5, 3], [8, 14]]\n,Após MixColumns: [[3, 14], [15, 2]]\n,Após AddRoundKey (K1): [[10, 9], [15, 1]]\n,Após SubNibbles: [[0, 2], [7, 4]]\n,Após ShiftRows: [[0, 2], [4, 7]]\n,Após AddRoundKey (K2): [[3, 14], [7, 8]]\n,Bloco 1 cifrado: 3e78\n,Texto original: [[4, 1], [4, 2]]\n,Após AddRoundKey (K0): [[7, 11], [13, 6]]\n,Após SubNibbles: [[5, 3], [14, 8]]\n,Após ShiftRows: [[5, 3], [8, 14]]\n,Após MixColumns: [[3, 14], [15, 2]]\n,Após AddRoundKey (K1): [[10, 9], [15, 1]]\n,Após SubNibbles: [[0, 2], [7, 4]]\n,Após ShiftRows: [[0, 2], [4, 7]]\n,Após AddRoundKey (K2): [[3, 14], [7, 8]]\n,Bloco 2 cifrado: 3e78\n,Texto original: [[4, 1], [4, 2]]\n,Após AddRoundKey (K0): [[7, 11], [13, 6]]\n,Após SubNibbles: [[5, 3], [14, 8]]\n,Após ShiftRows: [[5, 3], [8, 14]]\n,Após MixColumns: [[3, 14], [15, 2]]\n,Após AddRoundKey (K1): [[10, 9], [15, 1]]\n,Após SubNibbles: [[0, 2], [7, 4]]\n,Após ShiftRows: [[0, 2], [4, 7]]\n,Após AddRoundKey (K2): [[3, 14], [7, 8]]\n,Bloco 3 cifrado: 3e78\n,Texto original: [[4, 1], [4, 2]]\n,Após AddRoundKey (K0): [[7, 11], [13, 6]]\n,Após SubNibbles: [[5, 3], [14, 8]]\n,Após ShiftRows: [[5, 3], [8, 14]]\n,Após MixColumns: [[3, 14], [15, 2]]\n,Após AddRoundKey (K1): [[10, 9], [15, 1]]\n,Após SubNibbles: [[0, 2], [7, 4]]\n,Após ShiftRows: [[0, 2], [4, 7]]\n,Após AddRoundKey (K2): [[3, 14], [7, 8]]\n,Bloco 4 cifrado: 3e78\n,Texto original: [[4, 1], [4, 2]]\n,Após AddRoundKey (K0): [[7, 11], [13, 6]]\n,Após SubNibbles: [[5, 3], [14, 8]]\n,Após ShiftRows: [[5, 3], [8, 14]]\n,Após MixColumns: [[3, 14], [15, 2]]\n,Após AddRoundKey (K1): [[10, 9], [15, 1]]\n,Após SubNibbles: [[0, 2], [7, 4]]\n,Após ShiftRows: [[0, 2], [4, 7]]\n,Após AddRoundKey (K2): [[3, 14], [7, 8]]\n,Bloco 5 cifrado: 3e78\n,Texto original: [[4, 1], [4, 2]]\n,Após AddRoundKey (K0): [[7, 11], [13, 6]]\n,Após SubNibbles: [[5, 3], [14, 8]]\n,Após ShiftRows: [[5, 3], [8, 14]]\n,Após MixColumns: [[3, 14], [15, 2]]\n,Após AddRoundKey (K1): [[10, 9], [15, 1]]\n,Após SubNibbles: [[0, 2], [7, 4]]\n,Após ShiftRows: [[0, 2], [4, 7]]\n,Após AddRoundKey (K2): [[3, 14], [7, 8]]\n,Bloco 6 cifrado: 3e78\n,\n,Texto cifrado em Base64: Png+eD54Png+eD54\n"
        },
        {
          "data": {
            "text/plain": "'Png+eD54Png+eD54'"
          },
          "execution_count": 64,
          "metadata": {},
          "output_type": "execute_result"
        }
      ],
      "execution_count": 64
    },
    {
      "cell_type": "markdown",
      "source": "A função acima tem o seguinte funcionamento:\n- Conversão de texto para binário\n- Divisão em blocos de 16 bits e preenchimento caso não seja múltiplo\n- Cifragem usando o algoritmo S-AES definido bloco a bloco\n- Concatenação e codificação para base64\n\nCom o teste acima, também é possível visualizar como mensagens com um padrão apresentam blocos iguais, comprovando a fraqueza deste modo de operação.\n\n## Parte 3 - Simulação com AES Real usando Bibliotecas Criptográficas:\n\nPara esta parte, faremos o uso do AES Real com diversos modos de operação e compará-los para contrastar o tempo de execução para analisar a eficiência. Ademais, também será denotado o grau de aleatoriedade e segurança.\n\nPrimeiramente, vamos instalar os pacotes necessários para usar o AES real e não o simplificado usado apenas para fins educativos:",
      "metadata": {
        "collapsed": false,
        "jupyter": {
          "outputs_hidden": false
        }
      }
    },
    {
      "cell_type": "code",
      "source": "!pip install cryptography",
      "metadata": {
        "collapsed": false,
        "ExecuteTime": {
          "end_time": "2025-06-15T23:52:09.247809400Z",
          "start_time": "2025-06-15T23:52:08.455351800Z"
        },
        "jupyter": {
          "outputs_hidden": false
        }
      },
      "outputs": [
        {
          "name": "stdout",
          "output_type": "stream",
          "text": "Requirement already satisfied: cryptography in c:\\users\\leobe\\appdata\\local\\programs\\python\\python311\\lib\\site-packages (45.0.3)\n,Requirement already satisfied: cffi>=1.14 in c:\\users\\leobe\\appdata\\local\\programs\\python\\python311\\lib\\site-packages (from cryptography) (1.16.0)\n,Requirement already satisfied: pycparser in c:\\users\\leobe\\appdata\\local\\programs\\python\\python311\\lib\\site-packages (from cffi>=1.14->cryptography) (2.21)\n"
        }
      ],
      "execution_count": 65
    },
    {
      "cell_type": "markdown",
      "source": "Nessa parte iremos implementar a cifragem AES nos modos ECB, CBC, CFB, OFB, CTR.\n\nInicialmente, definimos uma chave \"aleatória\" com 32 bytes e um plain text suficientemente grande. Posteriormente, calcularemos o grau de aleatoriedade (entropia) do texto cifrado, de modo que seja possível avaliar se o texto criptografado possui uma distribuição estatística adequada para uma criptografia segura.\n\nNossa função principal encrypt_aes realizará algumas etapas: \n- Aplicará um padding para garantir que o texto tenha um tamanho múltiplo de 16 (tamanho do bloco AES)\n- Executará 10 cifragens consecutivas para obter a média de tempos\n- Criará o modo de operação com a chave e, caso necessário, o IV\n- Medirá, em milissegundos, o tempo de cifragem utilizando o perf_counter\n- Mostrará o modo usado, ciphertext codificado, tempo médio e entropia\n\nChamaremos a função principal para cada modo de operação. Além disso, percebe-se que, mesmo que a mensagem e a chave sejam as mesmas, os resultados de cada cifra estão diferentes. Isso acontece, e é desejável que seja desse modo, pois o vetor de inicialização muda a cada execução já que ele é \"aleatório\".\n\nNo que diz respeito ao tempo de execução, percebe-se que o modo CTR tende a ser mais rápido, pois cada bloco pode ser processado independentemente e em paralelo devido ao fato de que cada contador é único e independente. Outro modo de execução com baixo tempo de execução é o ECB, que é mais simples e não possui vetor de inicialização. \n\nEm relação à entropia, vê-se que o OFB possui o maior grau de entropia. Se compararmos, por exemplo, com o ECB, é esperado que o OFB tenha maior entropia, pois utiliza vetor de inicialização e faz mix de blocos para que não haja padrões.",
      "metadata": {
        "collapsed": false,
        "jupyter": {
          "outputs_hidden": false
        }
      }
    },
    {
      "cell_type": "code",
      "source": "from math import log2\nfrom collections import Counter\nfrom cryptography.hazmat.primitives.ciphers import Cipher, algorithms, modes\nfrom cryptography.hazmat.backends import default_backend\nimport os\nimport base64\nfrom time import perf_counter\n\nplaintext = (\n    b\"Lorem ipsum dolor sit amet, consectetur adipiscing elit, sed do eiusmod tempor incididunt ut \"\n    b\"labore et dolore magna aliqua. Ut enim ad minim veniam, quis nostrud exercitation ullamco laboris \"\n    b\"nisi ut aliquip ex ea commodo consequat. Duis aute irure dolor in reprehenderit in voluptate velit \"\n    b\"esse cillum dolore eu fugiat nulla pariatur. Excepteur sint occaecat cupidatat non proident, sunt \"\n    b\"in culpa qui officia deserunt mollit anim id est laborum.\"\n) * 10\n\nkey = os.urandom(32) # AES key of 256 bits (32 bytes)\n\ndef byte_entropy(data):\n    counter = Counter(data)\n    probs = [v / len(data) for v in counter.values()]\n    entropy = -sum(p * log2(p) for p in probs)\n    return entropy\n\n# AES encryption base function to encrypt and measure time\ndef encrypt_aes(mode_name, mode_constructor, iv_or_nonce=None):\n\n    # Padding\n    pad_len = 16 - (len(plaintext) % 16)\n    padded = plaintext + bytes([pad_len] * pad_len)\n\n    times = []\n    last_ciphertext = None\n\n    for _ in range(10):\n        if iv_or_nonce:\n            mode = mode_constructor(iv_or_nonce)\n        else:\n            mode = mode_constructor()\n\n        cipher = Cipher(algorithms.AES(key), mode, backend=default_backend())\n        encryptor = cipher.encryptor()\n\n        start = perf_counter()\n        ciphertext = encryptor.update(padded) + encryptor.finalize()\n        end = perf_counter()\n\n        times.append(end - start)\n        last_ciphertext = ciphertext  # Keeps last cipher to be printed\n\n    mean = sum(times) / len(times)\n\n    print(f'\\n - Modo: {mode_name}')\n    print(f'Base64: {base64.b64encode(last_ciphertext).decode()}')\n    print(f'Tempo médio de execução: {mean:.9f} milissegundos')\n    print(f'Entropia (aleatoriedade): {byte_entropy(last_ciphertext):.4f} bits')\n\n# ECB - doesn't have iv\nencrypt_aes(\"ECB\", modes.ECB)\n\n# CBC\niv_cbc = os.urandom(16)\nencrypt_aes(\"CBC\", modes.CBC, iv_cbc)\n\n# CFB\niv_cfb = os.urandom(16)\nencrypt_aes(\"CFB\", modes.CFB, iv_cfb)\n\n# OFB\niv_ofb = os.urandom(16)\nencrypt_aes(\"OFB\", modes.OFB, iv_ofb)\n\n# CTR\nnonce_ctr = os.urandom(16)\nencrypt_aes(\"CTR\", modes.CTR, nonce_ctr)\n",
      "metadata": {
        "collapsed": false,
        "ExecuteTime": {
          "end_time": "2025-06-15T23:52:09.260169400Z",
          "start_time": "2025-06-15T23:52:09.253195200Z"
        },
        "jupyter": {
          "outputs_hidden": false
        }
      },
      "outputs": [
        {
          "name": "stdout",
          "output_type": "stream",
          "text": "\n, - Modo: ECB\n,Base64: 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\n,Tempo médio de execução: 0.000002260 milissegundos\n,Entropia (aleatoriedade): 7.9585 bits\n,\n, - Modo: CBC\n,Base64: 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\n,Tempo médio de execução: 0.000004060 milissegundos\n,Entropia (aleatoriedade): 7.9563 bits\n,\n, - Modo: CFB\n,Base64: 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\n,Tempo médio de execução: 0.000005790 milissegundos\n,Entropia (aleatoriedade): 7.9562 bits\n,\n, - Modo: OFB\n,Base64: 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\n,Tempo médio de execução: 0.000004820 milissegundos\n,Entropia (aleatoriedade): 7.9617 bits\n,\n, - Modo: CTR\n,Base64: 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\n,Tempo médio de execução: 0.000001690 milissegundos\n,Entropia (aleatoriedade): 7.9576 bits\n"
        }
      ],
      "execution_count": 66
    }
  ]
}